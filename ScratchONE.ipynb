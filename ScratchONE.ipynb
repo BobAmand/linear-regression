{
 "cells": [
  {
   "cell_type": "code",
   "execution_count": 32,
   "metadata": {
    "collapsed": false
   },
   "outputs": [],
   "source": [
    "import pandas as pd\n",
    "import matplotlib.pyplot as plt\n",
    "import numpy as np\n",
    "from sklearn import linear_model\n",
    "%matplotlib inline"
   ]
  },
  {
   "cell_type": "markdown",
   "metadata": {},
   "source": [
    "Tasks\n",
    "Find the linear regression equation for this data.\n",
    "Chart the original data and the equation on the chart.\n",
    "Find the equation's R2 score (use the .score method) to determine whether the equation is a good fit for this data. (0.8 and greater is considered a strong correlation.)\n",
    "Extrapolate data: If the ground temperature reached 95° F, then at what approximate rate would you expect the crickets to be chirping?\n",
    "Interpolate data: With a listening device, you discovered that on a particular morning the crickets were chirping at a rate of 18 chirps per second. What was the approximate ground temperature that morning?\n"
   ]
  },
  {
   "cell_type": "code",
   "execution_count": 33,
   "metadata": {
    "collapsed": true
   },
   "outputs": [],
   "source": [
    "ground_cricket_data = {\"Chirps/Second\": [20.0, 16.0, 19.8, 18.4, 17.1, 15.5, 14.7,\n",
    "                                         15.7, 15.4, 16.3, 15.0, 17.2, 16.0, 17.0,\n",
    "                                         14.4],\n",
    "                       \"Ground Temperature\": [88.6, 71.6, 93.3, 84.3, 80.6, 75.2, 69.7,\n",
    "                                              71.6, 69.4, 83.3, 79.6, 82.6, 80.6, 83.5,\n",
    "                                              76.3]}\n",
    "df = pd.DataFrame(ground_cricket_data)"
   ]
  },
  {
   "cell_type": "code",
   "execution_count": 46,
   "metadata": {
    "collapsed": false
   },
   "outputs": [
    {
     "data": {
      "text/html": [
       "<div>\n",
       "<table border=\"1\" class=\"dataframe\">\n",
       "  <thead>\n",
       "    <tr style=\"text-align: right;\">\n",
       "      <th></th>\n",
       "      <th>Chirps/Second</th>\n",
       "    </tr>\n",
       "  </thead>\n",
       "  <tbody>\n",
       "    <tr>\n",
       "      <th>0</th>\n",
       "      <td>20.0</td>\n",
       "    </tr>\n",
       "    <tr>\n",
       "      <th>1</th>\n",
       "      <td>16.0</td>\n",
       "    </tr>\n",
       "    <tr>\n",
       "      <th>2</th>\n",
       "      <td>19.8</td>\n",
       "    </tr>\n",
       "    <tr>\n",
       "      <th>3</th>\n",
       "      <td>18.4</td>\n",
       "    </tr>\n",
       "    <tr>\n",
       "      <th>4</th>\n",
       "      <td>17.1</td>\n",
       "    </tr>\n",
       "  </tbody>\n",
       "</table>\n",
       "</div>"
      ],
      "text/plain": [
       "   Chirps/Second\n",
       "0           20.0\n",
       "1           16.0\n",
       "2           19.8\n",
       "3           18.4\n",
       "4           17.1"
      ]
     },
     "execution_count": 46,
     "metadata": {},
     "output_type": "execute_result"
    }
   ],
   "source": [
    "df[['Chirps/Second']].head()"
   ]
  },
  {
   "cell_type": "code",
   "execution_count": 35,
   "metadata": {
    "collapsed": false
   },
   "outputs": [],
   "source": [
    "cps = list(df.get('Chirps/Second'))"
   ]
  },
  {
   "cell_type": "code",
   "execution_count": 36,
   "metadata": {
    "collapsed": false
   },
   "outputs": [
    {
     "data": {
      "text/plain": [
       "[20.0,\n",
       " 16.0,\n",
       " 19.800000000000001,\n",
       " 18.399999999999999,\n",
       " 17.100000000000001,\n",
       " 15.5,\n",
       " 14.699999999999999,\n",
       " 15.699999999999999,\n",
       " 15.4,\n",
       " 16.300000000000001,\n",
       " 15.0,\n",
       " 17.199999999999999,\n",
       " 16.0,\n",
       " 17.0,\n",
       " 14.4]"
      ]
     },
     "execution_count": 36,
     "metadata": {},
     "output_type": "execute_result"
    }
   ],
   "source": [
    "cps"
   ]
  },
  {
   "cell_type": "code",
   "execution_count": 37,
   "metadata": {
    "collapsed": true
   },
   "outputs": [],
   "source": [
    "xcps = np.array(cps)"
   ]
  },
  {
   "cell_type": "code",
   "execution_count": 38,
   "metadata": {
    "collapsed": false
   },
   "outputs": [
    {
     "data": {
      "text/plain": [
       "array([ 20. ,  16. ,  19.8,  18.4,  17.1,  15.5,  14.7,  15.7,  15.4,\n",
       "        16.3,  15. ,  17.2,  16. ,  17. ,  14.4])"
      ]
     },
     "execution_count": 38,
     "metadata": {},
     "output_type": "execute_result"
    }
   ],
   "source": [
    "xcps"
   ]
  },
  {
   "cell_type": "code",
   "execution_count": 39,
   "metadata": {
    "collapsed": true
   },
   "outputs": [],
   "source": [
    "gt = list(df.get('Ground Temperature'))"
   ]
  },
  {
   "cell_type": "code",
   "execution_count": 70,
   "metadata": {
    "collapsed": false
   },
   "outputs": [],
   "source": [
    "xgt = np.array(gt)"
   ]
  },
  {
   "cell_type": "code",
   "execution_count": 74,
   "metadata": {
    "collapsed": false
   },
   "outputs": [
    {
     "data": {
      "text/plain": [
       "array([ 88.6,  71.6,  93.3,  84.3,  80.6,  75.2,  69.7,  71.6,  69.4,\n",
       "        83.3,  79.6,  82.6,  80.6,  83.5,  76.3])"
      ]
     },
     "execution_count": 74,
     "metadata": {},
     "output_type": "execute_result"
    }
   ],
   "source": [
    "xgt"
   ]
  },
  {
   "cell_type": "code",
   "execution_count": 94,
   "metadata": {
    "collapsed": false
   },
   "outputs": [
    {
     "name": "stdout",
     "output_type": "stream",
     "text": [
      "The x Coefficient is: [[ 0.20299973]]\n",
      "  The y Intercept is: [ 0.45931465]\n",
      "  The Rsq (score) is: 0.6922946529146998\n",
      "\n",
      "An extrapolation example with 95 deg F ground temp results in: [[ 19.74428913]] chirps per second.\n",
      "An interpolation example with 18 chirps detected results in: [[ 86.40743135]] ground temp.\n"
     ]
    },
    {
     "data": {
      "image/png": "[encoded data removed]",
      "text/plain": [
       "<matplotlib.figure.Figure at 0x1114b6d68>"
      ]
     },
     "metadata": {},
     "output_type": "display_data"
    }
   ],
   "source": [
    "plt.scatter(df[['Ground Temperature']],df[['Chirps/Second']])\n",
    "plt.title(\"Cricket Chirps/sec by Ground Temperature\")\n",
    "rline = linear_model.LinearRegression()\n",
    "rline.fit(df[['Ground Temperature']],df[['Chirps/Second']])\n",
    "plt.plot(df[['Ground Temperature']],\n",
    "         rline.predict(df[['Ground Temperature']]), \n",
    "         color='blue', \n",
    "         linewidth = 2)\n",
    "plt.xlabel(\"Ground Temperature\")\n",
    "plt.ylabel(\"Chirps/sec\")\n",
    "\n",
    "print(\"The x Coefficient is: {}\".format(rline.coef_))\n",
    "print(\"  The y Intercept is: {}\".format(rline.intercept_))\n",
    "print(\"  The Rsq (score) is: {}\".format(rline.score(df[['Ground Temperature']],df[['Chirps/Second']])))\n",
    "\n",
    "chirp = (95 * rline.coef_) + rline.intercept_\n",
    "\n",
    "print(\"\\nAn extrapolation example with 95 deg F ground temp results in: {} chirps per second.\".format(chirp))\n",
    "\n",
    "temp = (18 - rline.intercept_) / rline.coef_\n",
    "\n",
    "print(\"An interpolation example with 18 chirps detected results in: {} ground temp.\".format(temp))\n"
   ]
  },
  {
   "cell_type": "code",
   "execution_count": 76,
   "metadata": {
    "collapsed": false
   },
   "outputs": [
    {
     "data": {
      "text/plain": [
       "LinearRegression(copy_X=True, fit_intercept=True, n_jobs=1, normalize=False)"
      ]
     },
     "execution_count": 76,
     "metadata": {},
     "output_type": "execute_result"
    }
   ],
   "source": [
    "rline = linear_model.LinearRegression()\n",
    "rline.fit(df[['Chirps/Second']],df[['Ground Temperature']])\n"
   ]
  },
  {
   "cell_type": "code",
   "execution_count": 49,
   "metadata": {
    "collapsed": false
   },
   "outputs": [
    {
     "name": "stdout",
     "output_type": "stream",
     "text": [
      "[[ 3.410323]] [ 22.84898231]\n"
     ]
    }
   ],
   "source": [
    "print(rline.coef_, rline.intercept_)"
   ]
  },
  {
   "cell_type": "code",
   "execution_count": 50,
   "metadata": {
    "collapsed": false
   },
   "outputs": [
    {
     "name": "stdout",
     "output_type": "stream",
     "text": [
      "0.692294652915\n"
     ]
    }
   ],
   "source": [
    "print(rline.score(df[['Chirps/Second']],df[['Ground Temperature']]))"
   ]
  },
  {
   "cell_type": "code",
   "execution_count": 79,
   "metadata": {
    "collapsed": true
   },
   "outputs": [],
   "source": [
    "dff = pd.read_fwf(\"brain_body.txt\")"
   ]
  },
  {
   "cell_type": "code",
   "execution_count": 85,
   "metadata": {
    "collapsed": false
   },
   "outputs": [
    {
     "data": {
      "text/plain": [
       "<matplotlib.collections.PathCollection at 0x110eaef28>"
      ]
     },
     "execution_count": 85,
     "metadata": {},
     "output_type": "execute_result"
    },
    {
     "data": {
      "image/png": "[encoded data removed]",
      "text/plain": [
       "<matplotlib.figure.Figure at 0x1109146a0>"
      ]
     },
     "metadata": {},
     "output_type": "display_data"
    }
   ],
   "source": [
    "plt.scatter(dff[['Brain']],dff[['Body']])"
   ]
  },
  {
   "cell_type": "code",
   "execution_count": 97,
   "metadata": {
    "collapsed": false
   },
   "outputs": [
    {
     "name": "stdout",
     "output_type": "stream",
     "text": [
      "The x Coefficient is: [[ 0.96649637]]\n",
      "  The y Intercept is: [ 91.00439621]\n",
      "  The Rsq (score) is: 0.8726620843043331\n"
     ]
    },
    {
     "data": {
      "image/png": "[encoded data removed]",
      "text/plain": [
       "<matplotlib.figure.Figure at 0x11163c358>"
      ]
     },
     "metadata": {},
     "output_type": "display_data"
    }
   ],
   "source": [
    "plt.scatter(dff[['Brain']],dff[['Body']])\n",
    "plt.title(\"Unknown Mammals: Brain wgt by Body wgt\")\n",
    "rrline = linear_model.LinearRegression()\n",
    "rrline.fit(dff[['Brain']],dff[['Body']])\n",
    "plt.plot(dff[['Brain']],\n",
    "         rline.predict(dff[['Brain']]), \n",
    "         color='blue', \n",
    "         linewidth = 2)\n",
    "plt.xlabel(\"Brain Weight (units ukn)\")\n",
    "plt.ylabel(\"Body Weight (units ukn)\")\n",
    "\n",
    "print(\"The x Coefficient is: {}\".format(rrline.coef_))\n",
    "print(\"  The y Intercept is: {}\".format(rrline.intercept_))\n",
    "print(\"  The Rsq (score) is: {}\".format(rrline.score(dff[['Brain']],dff[['Body']])))"
   ]
  },
  {
   "cell_type": "code",
   "execution_count": 98,
   "metadata": {
    "collapsed": false
   },
   "outputs": [
    {
     "name": "stdout",
     "output_type": "stream",
     "text": [
      "There are two very large outliers; likely a whale and an elephant (unverified)\n",
      "The linear model was run again without the largest two values\n",
      "\n",
      "The x Coefficient is: [[ 1.24271276]]\n",
      "  The y Intercept is: [ 55.95185719]\n",
      "  The Rsq (score) is: 0.42322727989153086\n"
     ]
    },
    {
     "data": {
      "image/png": "[encoded data removed]",
      "text/plain": [
       "<matplotlib.figure.Figure at 0x11154cac8>"
      ]
     },
     "metadata": {},
     "output_type": "display_data"
    }
   ],
   "source": [
    "print(\"There are two very large outliers; likely a whale and an elephant (unverified)\")\n",
    "print(\"The linear model was run again without the largest two values\\n\")\n",
    "\n",
    "dffm = dff[dff.Brain <=2000]           # removed the two outliers. the DataFrame now is 'dffm'\n",
    "\n",
    "plt.scatter(dffm[['Brain']],dffm[['Body']])\n",
    "plt.title(\"Unknown Mammals: Brain wgt by Body wgt\\n Without Outliers\")\n",
    "rrline = linear_model.LinearRegression()\n",
    "rrline.fit(dffm[['Brain']],dffm[['Body']])\n",
    "plt.plot(dffm[['Brain']],\n",
    "         rline.predict(dffm[['Brain']]), \n",
    "         color='blue', \n",
    "         linewidth = 2)\n",
    "plt.xlabel(\"Brain Weight (units ukn)\")\n",
    "plt.ylabel(\"Body Weight (units ukn)\")\n",
    "\n",
    "print(\"The x Coefficient is: {}\".format(rrline.coef_))\n",
    "print(\"  The y Intercept is: {}\".format(rrline.intercept_))\n",
    "print(\"  The Rsq (score) is: {}\".format(rrline.score(dffm[['Brain']],dffm[['Body']])))"
   ]
  },
  {
   "cell_type": "code",
   "execution_count": null,
   "metadata": {
    "collapsed": true
   },
   "outputs": [],
   "source": [
    "print(\"The removal of outliers reduced the R squared score.\")\n",
    "print(\"Most of the mammal body wghts are < 200 and brain wghts are < 100.\")\n",
    "print(\"The linear regression line is a poor model for this data.\")"
   ]
  },
  {
   "cell_type": "code",
   "execution_count": 93,
   "metadata": {
    "collapsed": false
   },
   "outputs": [
    {
     "data": {
      "text/plain": [
       "(array([ 57.,   2.,   1.,   0.,   0.,   0.,   0.,   0.,   1.,   1.]),\n",
       " array([  1.40000000e-01,   5.71326000e+02,   1.14251200e+03,\n",
       "          1.71369800e+03,   2.28488400e+03,   2.85607000e+03,\n",
       "          3.42725600e+03,   3.99844200e+03,   4.56962800e+03,\n",
       "          5.14081400e+03,   5.71200000e+03]),\n",
       " <a list of 10 Patch objects>)"
      ]
     },
     "execution_count": 93,
     "metadata": {},
     "output_type": "execute_result"
    },
    {
     "data": {
      "image/png": "[encoded data removed]",
      "text/plain": [
       "<matplotlib.figure.Figure at 0x110e106a0>"
      ]
     },
     "metadata": {},
     "output_type": "display_data"
    }
   ],
   "source": [
    "plt.hist(dff.Body)"
   ]
  },
  {
   "cell_type": "code",
   "execution_count": null,
   "metadata": {
    "collapsed": true
   },
   "outputs": [],
   "source": []
  },
  {
   "cell_type": "code",
   "execution_count": 88,
   "metadata": {
    "collapsed": false
   },
   "outputs": [],
   "source": [
    "temp = dff[dff.Brain <= 2000]"
   ]
  },
  {
   "cell_type": "code",
   "execution_count": 90,
   "metadata": {
    "collapsed": false
   },
   "outputs": [
    {
     "data": {
      "text/plain": [
       "<matplotlib.collections.PathCollection at 0x111087160>"
      ]
     },
     "execution_count": 90,
     "metadata": {},
     "output_type": "execute_result"
    },
    {
     "data": {
      "image/png": "[encoded data removed]",
      "text/plain": [
       "<matplotlib.figure.Figure at 0x1111fd400>"
      ]
     },
     "metadata": {},
     "output_type": "display_data"
    }
   ],
   "source": [
    "plt.scatter(temp[['Brain']],temp[['Body']])"
   ]
  },
  {
   "cell_type": "code",
   "execution_count": 99,
   "metadata": {
    "collapsed": true
   },
   "outputs": [],
   "source": [
    "dfff = pd.read_fwf(\"salary.txt\", header=None, \n",
    "                 names=[\"Sex\", \"Rank\", \"Year\", \"Degree\", \"YSdeg\", \"Salary\"])\n",
    "'''\n",
    "First ran some histograms to look at the data\n",
    "'''"
   ]
  },
  {
   "cell_type": "code",
   "execution_count": 146,
   "metadata": {
    "collapsed": false
   },
   "outputs": [
    {
     "data": {
      "image/png": "[encoded data removed]",
      "text/plain": [
       "<matplotlib.figure.Figure at 0x1123b1278>"
      ]
     },
     "metadata": {},
     "output_type": "display_data"
    },
    {
     "name": "stdout",
     "output_type": "stream",
     "text": [
      "More than twice as many males as female Professors\n"
     ]
    }
   ],
   "source": [
    "plt.hist(dfff.Sex)\n",
    "plt.title(\"0=Male, 1=Female\")\n",
    "plt.show()\n",
    "print(\"More than twice as many males as female Professors\")"
   ]
  },
  {
   "cell_type": "code",
   "execution_count": 147,
   "metadata": {
    "collapsed": false
   },
   "outputs": [
    {
     "data": {
      "image/png": "[encoded data removed]",
      "text/plain": [
       "<matplotlib.figure.Figure at 0x1123c6eb8>"
      ]
     },
     "metadata": {},
     "output_type": "display_data"
    },
    {
     "name": "stdout",
     "output_type": "stream",
     "text": [
      "Rank distribution seems unremarkable\n"
     ]
    }
   ],
   "source": [
    "plt.hist(dfff.Rank)\n",
    "plt.title(\"0=AssoProf, 1=AssiProf, 3=FullProf \")\n",
    "plt.show()\n",
    "print(\"Rank distribution seems unremarkable\")"
   ]
  },
  {
   "cell_type": "code",
   "execution_count": 150,
   "metadata": {
    "collapsed": false
   },
   "outputs": [
    {
     "data": {
      "image/png": "[encoded data removed]",
      "text/plain": [
       "<matplotlib.figure.Figure at 0x112668c18>"
      ]
     },
     "metadata": {},
     "output_type": "display_data"
    },
    {
     "name": "stdout",
     "output_type": "stream",
     "text": [
      "Years at rank covers many years\n",
      "although the distribution seems reasonable.\n",
      "The length of time at rank tapers over time.\n"
     ]
    }
   ],
   "source": [
    "plt.hist(dfff.Year)\n",
    "plt.title(\"Years at current rank\")\n",
    "plt.show()\n",
    "print(\"Years at rank covers many years\\nalthough the distribution seems reasonable.\")\n",
    "print(\"The length of time at rank tapers over time.\")"
   ]
  },
  {
   "cell_type": "code",
   "execution_count": 152,
   "metadata": {
    "collapsed": false
   },
   "outputs": [
    {
     "data": {
      "image/png": "[encoded data removed]",
      "text/plain": [
       "<matplotlib.figure.Figure at 0x1128f2ef0>"
      ]
     },
     "metadata": {},
     "output_type": "display_data"
    },
    {
     "name": "stdout",
     "output_type": "stream",
     "text": [
      "Twice as many Professors with PhDs than Masters\n"
     ]
    }
   ],
   "source": [
    "plt.hist(dfff.Degree)\n",
    "plt.title('0=Masters, 1=Doctorate')\n",
    "plt.show()\n",
    "print(\"Twice as many Professors with PhDs than Masters\")"
   ]
  },
  {
   "cell_type": "code",
   "execution_count": 153,
   "metadata": {
    "collapsed": false
   },
   "outputs": [
    {
     "data": {
      "image/png": "[encoded data removed]",
      "text/plain": [
       "<matplotlib.figure.Figure at 0x112be1fd0>"
      ]
     },
     "metadata": {},
     "output_type": "display_data"
    },
    {
     "name": "stdout",
     "output_type": "stream",
     "text": [
      "Flat distribution execept for high n < 5 yrs.\n",
      "Covers 35 years.\n"
     ]
    }
   ],
   "source": [
    "plt.hist(dfff.YSdeg)\n",
    "plt.title(\"Years since Degree\")\n",
    "plt.show()\n",
    "print(\"Flat distribution execept for high n < 5 yrs.\")\n",
    "print(\"Covers 35 years.\")"
   ]
  },
  {
   "cell_type": "code",
   "execution_count": 154,
   "metadata": {
    "collapsed": false
   },
   "outputs": [
    {
     "data": {
      "image/png": "[encoded data removed]",
      "text/plain": [
       "<matplotlib.figure.Figure at 0x112cc71d0>"
      ]
     },
     "metadata": {},
     "output_type": "display_data"
    },
    {
     "name": "stdout",
     "output_type": "stream",
     "text": [
      "Bimodal salary peeks. One at lowest, One at midpoint.\n"
     ]
    }
   ],
   "source": [
    "plt.hist(dfff.Salary)\n",
    "plt.title(\"Annual Salary\")\n",
    "plt.show()\n",
    "print(\"Bimodal salary peeks. One at lowest, One at midpoint.\")"
   ]
  },
  {
   "cell_type": "code",
   "execution_count": 156,
   "metadata": {
    "collapsed": false
   },
   "outputs": [
    {
     "data": {
      "image/png": "[encoded data removed]",
      "text/plain": [
       "<matplotlib.figure.Figure at 0x112e630f0>"
      ]
     },
     "metadata": {},
     "output_type": "display_data"
    },
    {
     "name": "stdout",
     "output_type": "stream",
     "text": [
      "The highest salary goes to a woman. \n",
      "The rest of female salaries are < 27000.\n",
      "Scatter data allows a visualization of salary distribution by gender.\n"
     ]
    }
   ],
   "source": [
    "plt.scatter(dfff.Sex, dfff.Salary)\n",
    "plt.title(\"Scatter of Sex vs Salary\")\n",
    "plt.show()\n",
    "print(\"The highest salary goes to a woman. \\nThe rest of female salaries are < 27000.\")\n",
    "print(\"Scatter data allows a visualization of salary distribution by gender.\")"
   ]
  },
  {
   "cell_type": "code",
   "execution_count": 163,
   "metadata": {
    "collapsed": false
   },
   "outputs": [
    {
     "name": "stdout",
     "output_type": "stream",
     "text": [
      "Coefficients for Sex, Rank, Year, Degree, YSdeg; followed by Y-intercept:\n",
      "\n",
      "[ 1241.7924996   5586.18144952   482.85976783 -1331.64406341  -128.79057354] 11410.1465473\n",
      "\n",
      "Rsq: 0.8547180674410969 \n"
     ]
    }
   ],
   "source": [
    "dfff = pd.read_fwf(\"salary.txt\", header=None, \n",
    "                 names=[\"Sex\",             # 1 = female, 0 = male\n",
    "                        \"Rank\",            # 1 = assoProf, 2 = assiProf, 3 = fullProf\n",
    "                        \"Year\",            # Years in current rank\n",
    "                        \"Degree\",          # 1 = Doctorate, 0 = Masters\n",
    "                        \"YSdeg\",           # Years since grad of highest deg\n",
    "                        \"Salary\"]          # annual salary\n",
    "                  )\n",
    "\n",
    "input = dfff[['Sex','Rank','Year','Degree','YSdeg']]\n",
    "output = dfff['Salary']                    # how important is 'sex' in predicting salary?\n",
    "regrm = linear_model.LinearRegression()\n",
    "regrm.fit(input, output)\n",
    "\n",
    "print(\"Coefficients for Sex, Rank, Year, Degree, YSdeg; followed by Y-intercept:\\n\")\n",
    "print(regrm.coef_,regrm.intercept_)\n",
    "print(\"\\nRsq: {} \".format(regrm.score(input, output)))"
   ]
  },
  {
   "cell_type": "code",
   "execution_count": null,
   "metadata": {
    "collapsed": false
   },
   "outputs": [],
   "source": []
  },
  {
   "cell_type": "code",
   "execution_count": null,
   "metadata": {
    "collapsed": false
   },
   "outputs": [],
   "source": []
  },
  {
   "cell_type": "code",
   "execution_count": 160,
   "metadata": {
    "collapsed": false
   },
   "outputs": [
    {
     "name": "stdout",
     "output_type": "stream",
     "text": [
      "Coefficients for Sex, Rank, Year, Degree; followed by Y-intercept:\n",
      "\n",
      "[ 5270.22591237   422.39449213  -892.71773473   -84.28239939] 11836.6086445\n",
      "\n",
      "Rsq: 0.8485077204335425 \n"
     ]
    }
   ],
   "source": [
    "'''\n",
    "Removed the YSdeg (Years since graduation) since seemed least relevant.\n",
    "'''\n",
    "\n",
    "dfffm = pd.read_fwf(\"salary.txt\", header=None, \n",
    "                 names=[\"Sex\",             # 1 = female, 0 = male\n",
    "                        \"Rank\",            # 1 = assoProf, 2 = assiProf, 3 = fullProf\n",
    "                        \"Year\",            # Years in current rank\n",
    "                        \"Degree\",          # 1 = Doctorate, 0 = Masters\n",
    "                        \"Salary\"]          # annual salary\n",
    "                  )\n",
    "\n",
    "inputm = dfffm[['Sex','Rank','Year','Degree']]\n",
    "outputm = dfffm['Salary']                    # how important is 'sex' in predicting salary?\n",
    "\n",
    "regrm = linear_model.LinearRegression()\n",
    "regrm.fit(inputm, outputm)\n",
    "print(\"Coefficients for Sex, Rank, Year, Degree; followed by Y-intercept:\\n\")\n",
    "print(regrm.coef_,regrm.intercept_)\n",
    "print(\"\\nRsq: {} \".format(regrm.score(inputm, outputm)))"
   ]
  },
  {
   "cell_type": "code",
   "execution_count": 164,
   "metadata": {
    "collapsed": false
   },
   "outputs": [
    {
     "name": "stdout",
     "output_type": "stream",
     "text": [
      "Coefficients for Sex, Rank, Year, Degree; followed by Y-intercept:\n",
      "\n",
      "[ 5197.07109859   465.87889541 -1570.61132108  -126.24660815] 12573.1319671\n",
      "\n",
      "Highest Rsq: 0.8963163112028344 \n",
      "\n",
      "The gender coefficient = 5197.  Male = 0, Female = 1, in the model.\n",
      "A female adds 5197 to the salary; a male adds nothing.\n",
      "\n",
      "The model:\n",
      "[Sex]*5197.1 + [Rank]*465.9 + [Year]*-1570.6 + [Degree]*-126.2 + 12573.1 = SALARY\n",
      "\n",
      "The model captures 89.6% of the variance\n"
     ]
    }
   ],
   "source": [
    "'''\n",
    "Highest paid woman may be skewing the results.\n",
    "Removed the row with highest paid woman.\n",
    "'''\n",
    "\n",
    "dffftrim = dfffm[dfffm.Salary != 38045]      # removed the highest paid female, reran last model.\n",
    "inputtr = dffftrim[['Sex','Rank','Year','Degree']]\n",
    "outputtr = dffftrim['Salary']                    # how important is 'sex' in predicting salary?\n",
    "\n",
    "regrm = linear_model.LinearRegression()\n",
    "regrm.fit(inputtr, outputtr)\n",
    "print(\"Coefficients for Sex, Rank, Year, Degree; followed by Y-intercept:\\n\")\n",
    "print(regrm.coef_,regrm.intercept_)\n",
    "print(\"\\nHighest Rsq: {} \".format(regrm.score(inputtr, outputtr)))\n",
    "print(\"\\nThe gender coefficient = 5197.  Male = 0, Female = 1, in the model.\")\n",
    "print(\"A female adds 5197 to the salary; a male adds nothing.\")\n",
    "print(\"\\nThe model:\")\n",
    "print(\"[Sex]*5197.1 + [Rank]*465.9 + [Year]*-1570.6 + [Degree]*-126.2 + 12573.1 = SALARY\")\n"
   ]
  },
  {
   "cell_type": "code",
   "execution_count": 140,
   "metadata": {
    "collapsed": false
   },
   "outputs": [],
   "source": []
  },
  {
   "cell_type": "code",
   "execution_count": null,
   "metadata": {
    "collapsed": true
   },
   "outputs": [],
   "source": [
    "inputm"
   ]
  }
 ],
 "metadata": {
  "kernelspec": {
   "display_name": "Python 3",
   "language": "python",
   "name": "python3"
  },
  "language_info": {
   "codemirror_mode": {
    "name": "ipython",
    "version": 3
   },
   "file_extension": ".py",
   "mimetype": "text/x-python",
   "name": "python",
   "nbconvert_exporter": "python",
   "pygments_lexer": "ipython3",
   "version": "3.4.3"
  }
 },
 "nbformat": 4,
 "nbformat_minor": 0
}
