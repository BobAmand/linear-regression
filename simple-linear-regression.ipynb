{
 "cells": [
  {
   "cell_type": "code",
   "execution_count": null,
   "metadata": {
    "collapsed": false
   },
   "outputs": [],
   "source": [
    "import pandas as pd\n",
    "import matplotlib.pyplot as plt\n",
    "import numpy as np\n",
    "from sklearn import linear_model\n",
    "%matplotlib inline"
   ]
  },
  {
   "cell_type": "markdown",
   "metadata": {},
   "source": [
    "## Ground Cricket Chirps\n",
    "\n",
    "In _The Song of Insects_ (1948) by George W. Pierce, Pierce mechanically measured the frequency (the number of wing vibrations per second) of chirps (or pulses of sound) made by a striped ground cricket, at various ground temperatures.  Since crickets are ectotherms (cold-blooded), the rate of their physiological processes and their overall metabolism are influenced by temperature.  Consequently, there is reason to believe that temperature would have a profound effect on aspects of their behavior, such as chirp frequency.\n",
    "\n",
    "In general, it was found that crickets did not sing at temperatures colder than 60&deg; F or warmer than 100&deg; F."
   ]
  },
  {
   "cell_type": "code",
   "execution_count": null,
   "metadata": {
    "collapsed": false
   },
   "outputs": [],
   "source": [
    "ground_cricket_data = {\"Chirps/Second\": [20.0, 16.0, 19.8, 18.4, 17.1, 15.5, 14.7,\n",
    "                                         15.7, 15.4, 16.3, 15.0, 17.2, 16.0, 17.0,\n",
    "                                         14.4],\n",
    "                       \"Ground Temperature\": [88.6, 71.6, 93.3, 84.3, 80.6, 75.2, 69.7,\n",
    "                                              71.6, 69.4, 83.3, 79.6, 82.6, 80.6, 83.5,\n",
    "                                              76.3]}\n",
    "df = pd.DataFrame(ground_cricket_data)"
   ]
  },
  {
   "cell_type": "markdown",
   "metadata": {},
   "source": [
    "### Tasks\n",
    "\n",
    "1. Find the linear regression equation for this data.\n",
    "2. Chart the original data and the equation on the chart.\n",
    "3. Find the equation's $R^2$ score (use the `.score` method) to determine whether the equation is a good fit for this data. (0.8 and greater is considered a strong correlation.)\n",
    "4. Extrapolate data:  If the ground temperature reached 95&deg; F, then at what approximate rate would you expect the crickets to be chirping?\n",
    "5. Interpolate data:  With a listening device, you discovered that on a particular morning the crickets were chirping at a rate of 18 chirps per second.  What was the approximate ground temperature that morning?"
   ]
  },
  {
   "cell_type": "code",
   "execution_count": null,
   "metadata": {
    "collapsed": false
   },
   "outputs": [],
   "source": [
    "plt.scatter(df[['Ground Temperature']],df[['Chirps/Second']])\n",
    "plt.title(\"Cricket Chirps/sec by Ground Temperature\")\n",
    "rline = linear_model.LinearRegression()\n",
    "rline.fit(df[['Ground Temperature']],df[['Chirps/Second']])\n",
    "plt.plot(df[['Ground Temperature']],\n",
    "         rline.predict(df[['Ground Temperature']]), \n",
    "         color='blue', \n",
    "         linewidth = 2)\n",
    "plt.xlabel(\"Ground Temperature\")\n",
    "plt.ylabel(\"Chirps/sec\")\n",
    "\n",
    "print(\"The x Coefficient is: {}\".format(rline.coef_))\n",
    "print(\"  The y Intercept is: {}\".format(rline.intercept_))\n",
    "print(\"  The Rsq (score) is: {}\".format(rline.score(df[['Ground Temperature']],df[['Chirps/Second']])))\n",
    "\n",
    "chirp = (95 * rline.coef_) + rline.intercept_\n",
    "\n",
    "print(\"\\nAn extrapolation example with 95 deg F ground temp results in: {} chirps per second.\".format(chirp))\n",
    "\n",
    "temp = (18 - rline.intercept_) / rline.coef_\n",
    "\n",
    "print(\"An interpolation example with 18 chirps detected results in: {} ground temp.\".format(temp))\n"
   ]
  },
  {
   "cell_type": "markdown",
   "metadata": {},
   "source": [
    "## Brain vs. Body Weight\n",
    "\n",
    "In the file `brain_body.txt`, the average brain and body weight for a number of mammal species are recorded. Load this data into a Pandas data frame.\n",
    "\n",
    "### Tasks\n",
    "\n",
    "1. Find the linear regression equation for this data for brain weight to body weight.\n",
    "2. Chart the original data and the equation on the chart.\n",
    "3. Find the equation's $R^2$ score (use the `.score` method) to determine whether the equation is a good fit for this data. (0.8 and greater is considered a strong correlation.)"
   ]
  },
  {
   "cell_type": "code",
   "execution_count": null,
   "metadata": {
    "collapsed": false
   },
   "outputs": [],
   "source": [
    "dff = pd.read_fwf(\"brain_body.txt\")\n",
    "plt.scatter(dff[['Brain']],dff[['Body']])\n",
    "plt.title(\"Unknown Mammals: Brain wgt by Body wgt\")\n",
    "rrline = linear_model.LinearRegression()\n",
    "rrline.fit(dff[['Brain']],dff[['Body']])\n",
    "plt.plot(dff[['Brain']],\n",
    "         rline.predict(dff[['Brain']]), \n",
    "         color='blue', \n",
    "         linewidth = 2)\n",
    "plt.xlabel(\"Brain Weight (units ukn)\")\n",
    "plt.ylabel(\"Body Weight (units ukn)\")\n",
    "\n",
    "print(\"The x Coefficient is: {}\".format(rrline.coef_))\n",
    "print(\"  The y Intercept is: {}\".format(rrline.intercept_))\n",
    "print(\"  The Rsq (score) is: {}\".format(rrline.score(dff[['Brain']],dff[['Body']])))"
   ]
  },
  {
   "cell_type": "code",
   "execution_count": null,
   "metadata": {
    "collapsed": false
   },
   "outputs": [],
   "source": [
    "print(\"There are two very large outliers; likely a whale and an elephant (unverified)\")\n",
    "print(\"The linear model was run again without the largest two values\\n\")\n",
    "\n",
    "dffm = dff[dff.Brain <=2000]           # removed the two outliers. the DataFrame now is 'dffm'\n",
    "\n",
    "plt.scatter(dffm[['Brain']],dffm[['Body']])\n",
    "plt.title(\"Unknown Mammals: Brain wgt by Body wgt\\n Without Outliers\")\n",
    "rrline = linear_model.LinearRegression()\n",
    "rrline.fit(dffm[['Brain']],dffm[['Body']])\n",
    "plt.plot(dffm[['Brain']],\n",
    "         rline.predict(dffm[['Brain']]), \n",
    "         color='blue', \n",
    "         linewidth = 2)\n",
    "plt.xlabel(\"Brain Weight (units ukn)\")\n",
    "plt.ylabel(\"Body Weight (units ukn)\")\n",
    "\n",
    "print(\"The x Coefficient is: {}\".format(rrline.coef_))\n",
    "print(\"  The y Intercept is: {}\".format(rrline.intercept_))\n",
    "print(\"  The Rsq (score) is: {}\".format(rrline.score(dffm[['Brain']],dffm[['Body']])))"
   ]
  },
  {
   "cell_type": "markdown",
   "metadata": {},
   "source": [
    "## Salary Discrimination\n",
    "\n",
    "The file `salary.txt` contains data for 52 tenure-track professors at a small Midwestern college. This data was used in legal proceedings in the 1980s about discrimination against women in salary.\n",
    "\n",
    "The data in the file, by column:\n",
    "\n",
    "1. Sex. 1 for female, 0 for male.\n",
    "2. Rank. 1 for assistant professor, 2 for associate professor, 3 for full professor.\n",
    "3. Year. Number of years in current rank.\n",
    "4. Degree. Highest degree. 1 for doctorate, 0 for master's.\n",
    "5. YSdeg. Years since highest degree was earned.\n",
    "6. Salary. Salary/year in dollars.\n",
    "\n",
    "### Tasks\n",
    "\n",
    "1. Find the linear regression equation for this data using columns 1-5 to column 6.\n",
    "2. Find the selection of columns with the best $R^2$ score.\n",
    "3. Report whether sex is a factor in salary. Support your argument with graph(s) if appropriate."
   ]
  },
  {
   "cell_type": "code",
   "execution_count": null,
   "metadata": {
    "collapsed": false
   },
   "outputs": [],
   "source": [
    "dfff = pd.read_fwf(\"salary.txt\", header=None, \n",
    "                 names=[\"Sex\", \"Rank\", \"Year\", \"Degree\", \"YSdeg\", \"Salary\"])\n",
    "'''\n",
    "First ran some histograms to look at the data\n",
    "'''\n",
    "plt.hist(dfff.Sex)\n",
    "plt.title(\"0=Male, 1=Female\")\n",
    "plt.show()\n",
    "print(\"More than twice as many males as female Professors\")\n",
    "\n",
    "plt.hist(dfff.Rank)\n",
    "plt.title(\"0=AssoProf, 1=AssiProf, 3=FullProf \")\n",
    "plt.show()\n",
    "print(\"Rank distribution seems unremarkable\")\n",
    "\n",
    "plt.hist(dfff.Year)\n",
    "plt.title(\"Years at current rank\")\n",
    "plt.show()\n",
    "print(\"Years at rank covers many years\\nalthough the distribution seems reasonable.\")\n",
    "print(\"The length of time at rank tapers over time.\")\n",
    "\n",
    "plt.hist(dfff.Degree)\n",
    "plt.title('0=Masters, 1=Doctorate')\n",
    "plt.show()\n",
    "print(\"Twice as many Professors with PhDs than Masters\")\n",
    "\n",
    "plt.hist(dfff.YSdeg)\n",
    "plt.title(\"Years since Degree\")\n",
    "plt.show()\n",
    "print(\"Flat distribution execept for high n < 5 yrs.\")\n",
    "print(\"Covers 35 years.\")\n",
    "\n",
    "plt.hist(dfff.Salary)\n",
    "plt.title(\"Annual Salary\")\n",
    "plt.show()\n",
    "print(\"Bimodal salary peeks. One at lowest, One at midpoint.\")\n",
    "\n",
    "plt.scatter(dfff.Sex, dfff.Salary)\n",
    "plt.title(\"Scatter of Sex vs Salary\")\n",
    "plt.show()\n",
    "print(\"The highest salary goes to a woman. \\nThe rest of female salaries are < 27000.\")\n",
    "print(\"Scatter data allows a visualization of salary distribution by gender.\")\n"
   ]
  },
  {
   "cell_type": "code",
   "execution_count": null,
   "metadata": {
    "collapsed": false
   },
   "outputs": [],
   "source": [
    "dfff = pd.read_fwf(\"salary.txt\", header=None, \n",
    "                 names=[\"Sex\",             # 1 = female, 0 = male\n",
    "                        \"Rank\",            # 1 = assoProf, 2 = assiProf, 3 = fullProf\n",
    "                        \"Year\",            # Years in current rank\n",
    "                        \"Degree\",          # 1 = Doctorate, 0 = Masters\n",
    "                        \"YSdeg\",           # Years since grad of highest deg\n",
    "                        \"Salary\"]          # annual salary\n",
    "                  )\n",
    "\n",
    "input = dfff[['Sex','Rank','Year','Degree','YSdeg']]\n",
    "output = dfff['Salary']                    # how important is 'sex' in predicting salary?\n",
    "regrm = linear_model.LinearRegression()\n",
    "regrm.fit(input, output)\n",
    "\n",
    "print(\"Coefficients for Sex, Rank, Year, Degree, YSdeg; followed by Y-intercept:\\n\")\n",
    "print(regrm.coef_,regrm.intercept_)\n",
    "print(\"\\nRsq: {} \".format(regrm.score(input, output)))"
   ]
  },
  {
   "cell_type": "code",
   "execution_count": null,
   "metadata": {
    "collapsed": false
   },
   "outputs": [],
   "source": [
    "'''\n",
    "Removed the YSdeg (Years since graduation) since seemed least relevant.\n",
    "'''\n",
    "\n",
    "dfffm = pd.read_fwf(\"salary.txt\", header=None, \n",
    "                 names=[\"Sex\",             # 1 = female, 0 = male\n",
    "                        \"Rank\",            # 1 = assoProf, 2 = assiProf, 3 = fullProf\n",
    "                        \"Year\",            # Years in current rank\n",
    "                        \"Degree\",          # 1 = Doctorate, 0 = Masters\n",
    "                        \"Salary\"]          # annual salary\n",
    "                  )\n",
    "\n",
    "inputm = dfffm[['Sex','Rank','Year','Degree']]\n",
    "outputm = dfffm['Salary']                    # how important is 'sex' in predicting salary?\n",
    "\n",
    "regrm = linear_model.LinearRegression()\n",
    "regrm.fit(inputm, outputm)\n",
    "print(\"Coefficients for Sex, Rank, Year, Degree; followed by Y-intercept:\\n\")\n",
    "print(regrm.coef_,regrm.intercept_)\n",
    "print(\"\\nRsq: {} \".format(regrm.score(inputm, outputm)))"
   ]
  },
  {
   "cell_type": "code",
   "execution_count": null,
   "metadata": {
    "collapsed": false
   },
   "outputs": [],
   "source": [
    "'''\n",
    "Highest paid woman may be skewing the results.\n",
    "Removed the row with highest paid woman.\n",
    "'''\n",
    "\n",
    "dffftrim = dfffm[dfffm.Salary != 38045]      # removed the highest paid female, reran last model.\n",
    "inputtr = dffftrim[['Sex','Rank','Year','Degree']]\n",
    "outputtr = dffftrim['Salary']                    # how important is 'sex' in predicting salary?\n",
    "\n",
    "regrm = linear_model.LinearRegression()\n",
    "regrm.fit(inputtr, outputtr)\n",
    "print(\"Coefficients for Sex, Rank, Year, Degree; followed by Y-intercept:\\n\")\n",
    "print(regrm.coef_,regrm.intercept_)\n",
    "print(\"\\nHighest Rsq: {} \".format(regrm.score(inputtr, outputtr)))\n",
    "print(\"\\nThe gender coefficient = 5197.  Male = 0, Female = 1, in the model.\")\n",
    "print(\"A female adds 5197 to the salary; a male adds nothing.\")\n",
    "print(\"\\nThe model:\")\n",
    "print(\"[Sex]*5197.1 + [Rank]*465.9 + [Year]*-1570.6 + [Degree]*-126.2 + 12573.1 = SALARY\")\n"
   ]
  },
  {
   "cell_type": "markdown",
   "metadata": {},
   "source": [
    "Observations: \n",
    "1. A female adds 5197 to the salary model; a male adds zero when predicting salary.\n",
    "2. Removing the top salary (a female), improves the R squared score. Does it improve the representation of lower paid female workers?\n",
    "3. Further research is necessary to see why being female adds $ to the model yet females seem to earn less.  \n",
    "    Are females weighted toward less rank, time, or education? "
   ]
  },
  {
   "cell_type": "code",
   "execution_count": null,
   "metadata": {
    "collapsed": true
   },
   "outputs": [],
   "source": []
  },
  {
   "cell_type": "code",
   "execution_count": null,
   "metadata": {
    "collapsed": true
   },
   "outputs": [],
   "source": []
  }
 ],
 "metadata": {
  "kernelspec": {
   "display_name": "Python 3",
   "language": "python",
   "name": "python3"
  },
  "language_info": {
   "codemirror_mode": {
    "name": "ipython",
    "version": 3
   },
   "file_extension": ".py",
   "mimetype": "text/x-python",
   "name": "python",
   "nbconvert_exporter": "python",
   "pygments_lexer": "ipython3",
   "version": "3.4.3"
  }
 },
 "nbformat": 4,
 "nbformat_minor": 0
}
